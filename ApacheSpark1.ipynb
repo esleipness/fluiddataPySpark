{
  "nbformat": 4,
  "nbformat_minor": 0,
  "metadata": {
    "colab": {
      "provenance": [],
      "authorship_tag": "ABX9TyNaW/HI+MLd39UpK0TVZFU2",
      "include_colab_link": true
    },
    "kernelspec": {
      "name": "python3",
      "display_name": "Python 3"
    },
    "language_info": {
      "name": "python"
    }
  },
  "cells": [
    {
      "cell_type": "markdown",
      "metadata": {
        "id": "view-in-github",
        "colab_type": "text"
      },
      "source": [
        "<a href=\"https://colab.research.google.com/github/esleipness/forecastingdifficultdateformats/blob/main/ApacheSpark1.ipynb\" target=\"_parent\"><img src=\"https://colab.research.google.com/assets/colab-badge.svg\" alt=\"Open In Colab\"/></a>"
      ]
    },
    {
      "cell_type": "markdown",
      "source": [
        "Download Java first."
      ],
      "metadata": {
        "id": "qosO2IL9Xfbg"
      }
    },
    {
      "cell_type": "code",
      "execution_count": null,
      "metadata": {
        "id": "5_DOlzmuV7GU"
      },
      "outputs": [],
      "source": [
        "!apt-get install openjdk-8-jdk-headless -qq > /dev/null"
      ]
    },
    {
      "cell_type": "markdown",
      "source": [
        "Install the latest version of Apache Spark, verify with website: https://spark.apache.org/downloads.html =; unzip hadoop folder and import Jave, Spark environments."
      ],
      "metadata": {
        "id": "_2kuwZRUYH_N"
      }
    },
    {
      "cell_type": "code",
      "source": [
        "!wget -q https://dlcdn.apache.org/spark/spark-3.5.0/spark-3.5.0-bin-hadoop3.tgz"
      ],
      "metadata": {
        "id": "QawE7TQMXdQH"
      },
      "execution_count": null,
      "outputs": []
    },
    {
      "cell_type": "code",
      "source": [
        "!tar xf spark-3.5.0-bin-hadoop3.tgz"
      ],
      "metadata": {
        "id": "tmrI825YYXO3"
      },
      "execution_count": null,
      "outputs": []
    },
    {
      "cell_type": "markdown",
      "source": [
        "Install for building and creating.  Partially installed by above codes."
      ],
      "metadata": {
        "id": "iXLME3wba_sC"
      }
    },
    {
      "cell_type": "code",
      "source": [
        "!pip install pyspark"
      ],
      "metadata": {
        "colab": {
          "base_uri": "https://localhost:8080/"
        },
        "id": "CeToDV-AZgVB",
        "outputId": "9eb954e0-afe7-4bca-8bc4-f36fc09f1b5a"
      },
      "execution_count": 3,
      "outputs": [
        {
          "output_type": "stream",
          "name": "stdout",
          "text": [
            "Collecting pyspark\n",
            "  Downloading pyspark-3.5.0.tar.gz (316.9 MB)\n",
            "\u001b[2K     \u001b[90m━━━━━━━━━━━━━━━━━━━━━━━━━━━━━━━━━━━━━━━━\u001b[0m \u001b[32m316.9/316.9 MB\u001b[0m \u001b[31m3.4 MB/s\u001b[0m eta \u001b[36m0:00:00\u001b[0m\n",
            "\u001b[?25h  Preparing metadata (setup.py) ... \u001b[?25l\u001b[?25hdone\n",
            "Requirement already satisfied: py4j==0.10.9.7 in /usr/local/lib/python3.10/dist-packages (from pyspark) (0.10.9.7)\n",
            "Building wheels for collected packages: pyspark\n",
            "  Building wheel for pyspark (setup.py) ... \u001b[?25l\u001b[?25hdone\n",
            "  Created wheel for pyspark: filename=pyspark-3.5.0-py2.py3-none-any.whl size=317425345 sha256=10a84f30557aeb82054763e74f145a6cc282b67f454735deb7050b6c0fa54b4e\n",
            "  Stored in directory: /root/.cache/pip/wheels/41/4e/10/c2cf2467f71c678cfc8a6b9ac9241e5e44a01940da8fbb17fc\n",
            "Successfully built pyspark\n",
            "Installing collected packages: pyspark\n",
            "Successfully installed pyspark-3.5.0\n"
          ]
        }
      ]
    },
    {
      "cell_type": "markdown",
      "source": [
        "Begin a session."
      ],
      "metadata": {
        "id": "OMSN85kPb_jb"
      }
    },
    {
      "cell_type": "code",
      "source": [
        "from pyspark.sql import SparkSession\n",
        "spark = SparkSession.builder\\\n",
        "        .master(\"local\")\\\n",
        "        .appName(\"Colab\")\\\n",
        "        .config('spark.ui.port', '4050')\\\n",
        "        .getOrCreate()"
      ],
      "metadata": {
        "id": "qWerIBteZ15M"
      },
      "execution_count": 7,
      "outputs": []
    },
    {
      "cell_type": "markdown",
      "source": [
        "Verify spark variable."
      ],
      "metadata": {
        "id": "sNTyj1eHcNZS"
      }
    },
    {
      "cell_type": "code",
      "source": [
        "spark"
      ],
      "metadata": {
        "colab": {
          "base_uri": "https://localhost:8080/",
          "height": 219
        },
        "id": "Fkp0FxtObkaj",
        "outputId": "40c3ac78-6b96-4ba9-c115-14bff635734f"
      },
      "execution_count": 8,
      "outputs": [
        {
          "output_type": "execute_result",
          "data": {
            "text/plain": [
              "<pyspark.sql.session.SparkSession at 0x7b7ee2fb9a50>"
            ],
            "text/html": [
              "\n",
              "            <div>\n",
              "                <p><b>SparkSession - in-memory</b></p>\n",
              "                \n",
              "        <div>\n",
              "            <p><b>SparkContext</b></p>\n",
              "\n",
              "            <p><a href=\"http://4ba6bb7e97a1:4050\">Spark UI</a></p>\n",
              "\n",
              "            <dl>\n",
              "              <dt>Version</dt>\n",
              "                <dd><code>v3.5.0</code></dd>\n",
              "              <dt>Master</dt>\n",
              "                <dd><code>local</code></dd>\n",
              "              <dt>AppName</dt>\n",
              "                <dd><code>Colab</code></dd>\n",
              "            </dl>\n",
              "        </div>\n",
              "        \n",
              "            </div>\n",
              "        "
            ]
          },
          "metadata": {},
          "execution_count": 8
        }
      ]
    },
    {
      "cell_type": "markdown",
      "source": [
        "Utilize spark.read.load command if the file is from a databricks store or spark library, otherwise use pandas to read the dataset.  This examples is from Kaggle site:"
      ],
      "metadata": {
        "id": "8GGA5FhhlXRO"
      }
    },
    {
      "cell_type": "markdown",
      "source": [],
      "metadata": {
        "id": "wHVcI4oVlXB0"
      }
    },
    {
      "cell_type": "code",
      "source": [
        "import pandas as pd\n",
        "df = pd.read_csv(\"/content/simplified_coffee.csv\")\n",
        "print(df_pandas.head())"
      ],
      "metadata": {
        "colab": {
          "base_uri": "https://localhost:8080/"
        },
        "id": "B-dcJa35hGRA",
        "outputId": "cebe707d-beee-4249-de10-1730d94127ca"
      },
      "execution_count": 9,
      "outputs": [
        {
          "output_type": "stream",
          "name": "stdout",
          "text": [
            "                               name                     roaster         roast  \\\n",
            "0          Ethiopia Shakiso Mormora                Revel Coffee  Medium-Light   \n",
            "1                Ethiopia Suke Quto                 Roast House  Medium-Light   \n",
            "2        Ethiopia Gedeb Halo Beriti   Big Creek Coffee Roasters        Medium   \n",
            "3           Ethiopia Kayon Mountain  Red Rooster Coffee Roaster         Light   \n",
            "4  Ethiopia Gelgelu Natural Organic   Willoughby's Coffee & Tea  Medium-Light   \n",
            "\n",
            "     loc_country    origin  100g_USD  rating    review_date  \\\n",
            "0  United States  Ethiopia      4.70      92  November 2017   \n",
            "1  United States  Ethiopia      4.19      92  November 2017   \n",
            "2  United States  Ethiopia      4.85      94  November 2017   \n",
            "3  United States  Ethiopia      5.14      93  November 2017   \n",
            "4  United States  Ethiopia      3.97      93  November 2017   \n",
            "\n",
            "                                              review  \n",
            "0  Crisply sweet, cocoa-toned. Lemon blossom, roa...  \n",
            "1  Delicate, sweetly spice-toned. Pink peppercorn...  \n",
            "2  Deeply sweet, subtly pungent. Honey, pear, tan...  \n",
            "3  Delicate, richly and sweetly tart. Dried hibis...  \n",
            "4  High-toned, floral. Dried apricot, magnolia, a...  \n"
          ]
        }
      ]
    },
    {
      "cell_type": "code",
      "source": [
        "df.count"
      ],
      "metadata": {
        "colab": {
          "base_uri": "https://localhost:8080/"
        },
        "id": "WSphMwOD6UYp",
        "outputId": "b39549b9-f5fb-468f-e424-c08d1fb73751"
      },
      "execution_count": 10,
      "outputs": [
        {
          "output_type": "execute_result",
          "data": {
            "text/plain": [
              "<bound method DataFrame.count of                                   name                     roaster  \\\n",
              "0             Ethiopia Shakiso Mormora                Revel Coffee   \n",
              "1                   Ethiopia Suke Quto                 Roast House   \n",
              "2           Ethiopia Gedeb Halo Beriti   Big Creek Coffee Roasters   \n",
              "3              Ethiopia Kayon Mountain  Red Rooster Coffee Roaster   \n",
              "4     Ethiopia Gelgelu Natural Organic   Willoughby's Coffee & Tea   \n",
              "...                                ...                         ...   \n",
              "1241                    Finca Patzibir                El Gran Cafe   \n",
              "1242                   Proyecto Aurora                El Gran Cafe   \n",
              "1243                  Finca El Potrero                El Gran Cafe   \n",
              "1244          Chacayá Santiago Atitlán                El Gran Cafe   \n",
              "1245                    Espresso No. 3                El Gran Cafe   \n",
              "\n",
              "             roast    loc_country     origin  100g_USD  rating    review_date  \\\n",
              "0     Medium-Light  United States   Ethiopia      4.70      92  November 2017   \n",
              "1     Medium-Light  United States   Ethiopia      4.19      92  November 2017   \n",
              "2           Medium  United States   Ethiopia      4.85      94  November 2017   \n",
              "3            Light  United States   Ethiopia      5.14      93  November 2017   \n",
              "4     Medium-Light  United States   Ethiopia      3.97      93  November 2017   \n",
              "...            ...            ...        ...       ...     ...            ...   \n",
              "1241  Medium-Light      Guatemala  Guatemala      4.70      92  November 2022   \n",
              "1242  Medium-Light      Guatemala  Guatemala      2.94      93  November 2022   \n",
              "1243  Medium-Light      Guatemala  Guatemala      2.94      93  November 2022   \n",
              "1244  Medium-Light      Guatemala  Guatemala      4.70      93  November 2022   \n",
              "1245  Medium-Light      Guatemala  Guatemala      5.88      94  November 2022   \n",
              "\n",
              "                                                 review  \n",
              "0     Crisply sweet, cocoa-toned. Lemon blossom, roa...  \n",
              "1     Delicate, sweetly spice-toned. Pink peppercorn...  \n",
              "2     Deeply sweet, subtly pungent. Honey, pear, tan...  \n",
              "3     Delicate, richly and sweetly tart. Dried hibis...  \n",
              "4     High-toned, floral. Dried apricot, magnolia, a...  \n",
              "...                                                 ...  \n",
              "1241  Crisply sweet, nut-toned. Almond brittle, pie ...  \n",
              "1242  Chocolaty, floral-framed. Cocoa nib, honeysuck...  \n",
              "1243  High-toned, enticingly sweet. Black cherry, na...  \n",
              "1244   Vibrantly sweet, subtly nuanced. Apricot, dar...  \n",
              "1245  Evaluated as espresso. Multi-layered, complex....  \n",
              "\n",
              "[1246 rows x 9 columns]>"
            ]
          },
          "metadata": {},
          "execution_count": 10
        }
      ]
    }
  ]
}
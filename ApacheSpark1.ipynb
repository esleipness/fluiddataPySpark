{
  "nbformat": 4,
  "nbformat_minor": 0,
  "metadata": {
    "colab": {
      "provenance": [],
      "authorship_tag": "ABX9TyPf35rWKtQWfZz7cRQeHfeM",
      "include_colab_link": true
    },
    "kernelspec": {
      "name": "python3",
      "display_name": "Python 3"
    },
    "language_info": {
      "name": "python"
    }
  },
  "cells": [
    {
      "cell_type": "markdown",
      "metadata": {
        "id": "view-in-github",
        "colab_type": "text"
      },
      "source": [
        "<a href=\"https://colab.research.google.com/github/esleipness/forecastingdifficultdateformats/blob/main/ApacheSpark1.ipynb\" target=\"_parent\"><img src=\"https://colab.research.google.com/assets/colab-badge.svg\" alt=\"Open In Colab\"/></a>"
      ]
    },
    {
      "cell_type": "markdown",
      "source": [
        "Download Java first."
      ],
      "metadata": {
        "id": "qosO2IL9Xfbg"
      }
    },
    {
      "cell_type": "code",
      "execution_count": null,
      "metadata": {
        "id": "5_DOlzmuV7GU"
      },
      "outputs": [],
      "source": [
        "!apt-get install openjdk-8-jdk-headless -qq > /dev/null"
      ]
    },
    {
      "cell_type": "markdown",
      "source": [
        "Install the latest version of Apache Spark, verify with website: https://spark.apache.org/downloads.html =; unzip hadoop folder and import Jave, Spark environments."
      ],
      "metadata": {
        "id": "_2kuwZRUYH_N"
      }
    },
    {
      "cell_type": "code",
      "source": [
        "!wget -q https://dlcdn.apache.org/spark/spark-3.5.0/spark-3.5.0-bin-hadoop3.tgz"
      ],
      "metadata": {
        "id": "QawE7TQMXdQH"
      },
      "execution_count": null,
      "outputs": []
    },
    {
      "cell_type": "code",
      "source": [
        "!tar xf spark-3.5.0-bin-hadoop3.tgz"
      ],
      "metadata": {
        "id": "tmrI825YYXO3"
      },
      "execution_count": null,
      "outputs": []
    },
    {
      "cell_type": "markdown",
      "source": [
        "Install for building and creating.  Partially installed by above codes."
      ],
      "metadata": {
        "id": "iXLME3wba_sC"
      }
    },
    {
      "cell_type": "code",
      "source": [
        "!pip install pyspark"
      ],
      "metadata": {
        "colab": {
          "base_uri": "https://localhost:8080/"
        },
        "id": "CeToDV-AZgVB",
        "outputId": "9eb954e0-afe7-4bca-8bc4-f36fc09f1b5a"
      },
      "execution_count": 3,
      "outputs": [
        {
          "output_type": "stream",
          "name": "stdout",
          "text": [
            "Collecting pyspark\n",
            "  Downloading pyspark-3.5.0.tar.gz (316.9 MB)\n",
            "\u001b[2K     \u001b[90m━━━━━━━━━━━━━━━━━━━━━━━━━━━━━━━━━━━━━━━━\u001b[0m \u001b[32m316.9/316.9 MB\u001b[0m \u001b[31m3.4 MB/s\u001b[0m eta \u001b[36m0:00:00\u001b[0m\n",
            "\u001b[?25h  Preparing metadata (setup.py) ... \u001b[?25l\u001b[?25hdone\n",
            "Requirement already satisfied: py4j==0.10.9.7 in /usr/local/lib/python3.10/dist-packages (from pyspark) (0.10.9.7)\n",
            "Building wheels for collected packages: pyspark\n",
            "  Building wheel for pyspark (setup.py) ... \u001b[?25l\u001b[?25hdone\n",
            "  Created wheel for pyspark: filename=pyspark-3.5.0-py2.py3-none-any.whl size=317425345 sha256=10a84f30557aeb82054763e74f145a6cc282b67f454735deb7050b6c0fa54b4e\n",
            "  Stored in directory: /root/.cache/pip/wheels/41/4e/10/c2cf2467f71c678cfc8a6b9ac9241e5e44a01940da8fbb17fc\n",
            "Successfully built pyspark\n",
            "Installing collected packages: pyspark\n",
            "Successfully installed pyspark-3.5.0\n"
          ]
        }
      ]
    },
    {
      "cell_type": "markdown",
      "source": [
        "Begin a session."
      ],
      "metadata": {
        "id": "OMSN85kPb_jb"
      }
    },
    {
      "cell_type": "code",
      "source": [
        "from pyspark.sql import SparkSession\n",
        "spark = SparkSession.builder\\\n",
        "        .master(\"local\")\\\n",
        "        .appName(\"Colab\")\\\n",
        "        .config('spark.ui.port', '4050')\\\n",
        "        .getOrCreate()"
      ],
      "metadata": {
        "id": "qWerIBteZ15M"
      },
      "execution_count": 7,
      "outputs": []
    },
    {
      "cell_type": "markdown",
      "source": [
        "Verify spark variable."
      ],
      "metadata": {
        "id": "sNTyj1eHcNZS"
      }
    },
    {
      "cell_type": "code",
      "source": [
        "spark"
      ],
      "metadata": {
        "colab": {
          "base_uri": "https://localhost:8080/",
          "height": 219
        },
        "id": "Fkp0FxtObkaj",
        "outputId": "40c3ac78-6b96-4ba9-c115-14bff635734f"
      },
      "execution_count": 8,
      "outputs": [
        {
          "output_type": "execute_result",
          "data": {
            "text/plain": [
              "<pyspark.sql.session.SparkSession at 0x7b7ee2fb9a50>"
            ],
            "text/html": [
              "\n",
              "            <div>\n",
              "                <p><b>SparkSession - in-memory</b></p>\n",
              "                \n",
              "        <div>\n",
              "            <p><b>SparkContext</b></p>\n",
              "\n",
              "            <p><a href=\"http://4ba6bb7e97a1:4050\">Spark UI</a></p>\n",
              "\n",
              "            <dl>\n",
              "              <dt>Version</dt>\n",
              "                <dd><code>v3.5.0</code></dd>\n",
              "              <dt>Master</dt>\n",
              "                <dd><code>local</code></dd>\n",
              "              <dt>AppName</dt>\n",
              "                <dd><code>Colab</code></dd>\n",
              "            </dl>\n",
              "        </div>\n",
              "        \n",
              "            </div>\n",
              "        "
            ]
          },
          "metadata": {},
          "execution_count": 8
        }
      ]
    },
    {
      "cell_type": "markdown",
      "source": [
        "Utilize spark.read.load command if the file is from a databricks store or spark library, otherwise use pandas to read the dataset.  This examples is from Kaggle site: https://www.kaggle.com/datasets/schmoyote/coffee-reviews-dataset?rvi=1\n",
        "\n",
        "Example the dataset, then convert to a pyspark document and use spark commands .show and schema to review it as a pyspark source."
      ],
      "metadata": {
        "id": "8GGA5FhhlXRO"
      }
    },
    {
      "cell_type": "markdown",
      "source": [],
      "metadata": {
        "id": "wHVcI4oVlXB0"
      }
    },
    {
      "cell_type": "code",
      "source": [
        "import pandas as pd\n",
        "df = pd.read_csv(\"/content/simplified_coffee.csv\")\n",
        "print(df_pandas.head())"
      ],
      "metadata": {
        "colab": {
          "base_uri": "https://localhost:8080/"
        },
        "id": "B-dcJa35hGRA",
        "outputId": "cebe707d-beee-4249-de10-1730d94127ca"
      },
      "execution_count": 9,
      "outputs": [
        {
          "output_type": "stream",
          "name": "stdout",
          "text": [
            "                               name                     roaster         roast  \\\n",
            "0          Ethiopia Shakiso Mormora                Revel Coffee  Medium-Light   \n",
            "1                Ethiopia Suke Quto                 Roast House  Medium-Light   \n",
            "2        Ethiopia Gedeb Halo Beriti   Big Creek Coffee Roasters        Medium   \n",
            "3           Ethiopia Kayon Mountain  Red Rooster Coffee Roaster         Light   \n",
            "4  Ethiopia Gelgelu Natural Organic   Willoughby's Coffee & Tea  Medium-Light   \n",
            "\n",
            "     loc_country    origin  100g_USD  rating    review_date  \\\n",
            "0  United States  Ethiopia      4.70      92  November 2017   \n",
            "1  United States  Ethiopia      4.19      92  November 2017   \n",
            "2  United States  Ethiopia      4.85      94  November 2017   \n",
            "3  United States  Ethiopia      5.14      93  November 2017   \n",
            "4  United States  Ethiopia      3.97      93  November 2017   \n",
            "\n",
            "                                              review  \n",
            "0  Crisply sweet, cocoa-toned. Lemon blossom, roa...  \n",
            "1  Delicate, sweetly spice-toned. Pink peppercorn...  \n",
            "2  Deeply sweet, subtly pungent. Honey, pear, tan...  \n",
            "3  Delicate, richly and sweetly tart. Dried hibis...  \n",
            "4  High-toned, floral. Dried apricot, magnolia, a...  \n"
          ]
        }
      ]
    },
    {
      "cell_type": "code",
      "source": [
        "df.count"
      ],
      "metadata": {
        "colab": {
          "base_uri": "https://localhost:8080/"
        },
        "id": "WSphMwOD6UYp",
        "outputId": "b39549b9-f5fb-468f-e424-c08d1fb73751"
      },
      "execution_count": 10,
      "outputs": [
        {
          "output_type": "execute_result",
          "data": {
            "text/plain": [
              "<bound method DataFrame.count of                                   name                     roaster  \\\n",
              "0             Ethiopia Shakiso Mormora                Revel Coffee   \n",
              "1                   Ethiopia Suke Quto                 Roast House   \n",
              "2           Ethiopia Gedeb Halo Beriti   Big Creek Coffee Roasters   \n",
              "3              Ethiopia Kayon Mountain  Red Rooster Coffee Roaster   \n",
              "4     Ethiopia Gelgelu Natural Organic   Willoughby's Coffee & Tea   \n",
              "...                                ...                         ...   \n",
              "1241                    Finca Patzibir                El Gran Cafe   \n",
              "1242                   Proyecto Aurora                El Gran Cafe   \n",
              "1243                  Finca El Potrero                El Gran Cafe   \n",
              "1244          Chacayá Santiago Atitlán                El Gran Cafe   \n",
              "1245                    Espresso No. 3                El Gran Cafe   \n",
              "\n",
              "             roast    loc_country     origin  100g_USD  rating    review_date  \\\n",
              "0     Medium-Light  United States   Ethiopia      4.70      92  November 2017   \n",
              "1     Medium-Light  United States   Ethiopia      4.19      92  November 2017   \n",
              "2           Medium  United States   Ethiopia      4.85      94  November 2017   \n",
              "3            Light  United States   Ethiopia      5.14      93  November 2017   \n",
              "4     Medium-Light  United States   Ethiopia      3.97      93  November 2017   \n",
              "...            ...            ...        ...       ...     ...            ...   \n",
              "1241  Medium-Light      Guatemala  Guatemala      4.70      92  November 2022   \n",
              "1242  Medium-Light      Guatemala  Guatemala      2.94      93  November 2022   \n",
              "1243  Medium-Light      Guatemala  Guatemala      2.94      93  November 2022   \n",
              "1244  Medium-Light      Guatemala  Guatemala      4.70      93  November 2022   \n",
              "1245  Medium-Light      Guatemala  Guatemala      5.88      94  November 2022   \n",
              "\n",
              "                                                 review  \n",
              "0     Crisply sweet, cocoa-toned. Lemon blossom, roa...  \n",
              "1     Delicate, sweetly spice-toned. Pink peppercorn...  \n",
              "2     Deeply sweet, subtly pungent. Honey, pear, tan...  \n",
              "3     Delicate, richly and sweetly tart. Dried hibis...  \n",
              "4     High-toned, floral. Dried apricot, magnolia, a...  \n",
              "...                                                 ...  \n",
              "1241  Crisply sweet, nut-toned. Almond brittle, pie ...  \n",
              "1242  Chocolaty, floral-framed. Cocoa nib, honeysuck...  \n",
              "1243  High-toned, enticingly sweet. Black cherry, na...  \n",
              "1244   Vibrantly sweet, subtly nuanced. Apricot, dar...  \n",
              "1245  Evaluated as espresso. Multi-layered, complex....  \n",
              "\n",
              "[1246 rows x 9 columns]>"
            ]
          },
          "metadata": {},
          "execution_count": 10
        }
      ]
    },
    {
      "cell_type": "code",
      "source": [
        "df.head(5)"
      ],
      "metadata": {
        "colab": {
          "base_uri": "https://localhost:8080/",
          "height": 293
        },
        "id": "rRdi16Uf7e1G",
        "outputId": "22a5f7cb-2e05-4b7d-ba3c-a9c8216374db"
      },
      "execution_count": 13,
      "outputs": [
        {
          "output_type": "execute_result",
          "data": {
            "text/plain": [
              "                               name                     roaster         roast  \\\n",
              "0          Ethiopia Shakiso Mormora                Revel Coffee  Medium-Light   \n",
              "1                Ethiopia Suke Quto                 Roast House  Medium-Light   \n",
              "2        Ethiopia Gedeb Halo Beriti   Big Creek Coffee Roasters        Medium   \n",
              "3           Ethiopia Kayon Mountain  Red Rooster Coffee Roaster         Light   \n",
              "4  Ethiopia Gelgelu Natural Organic   Willoughby's Coffee & Tea  Medium-Light   \n",
              "\n",
              "     loc_country    origin  100g_USD  rating    review_date  \\\n",
              "0  United States  Ethiopia      4.70      92  November 2017   \n",
              "1  United States  Ethiopia      4.19      92  November 2017   \n",
              "2  United States  Ethiopia      4.85      94  November 2017   \n",
              "3  United States  Ethiopia      5.14      93  November 2017   \n",
              "4  United States  Ethiopia      3.97      93  November 2017   \n",
              "\n",
              "                                              review  \n",
              "0  Crisply sweet, cocoa-toned. Lemon blossom, roa...  \n",
              "1  Delicate, sweetly spice-toned. Pink peppercorn...  \n",
              "2  Deeply sweet, subtly pungent. Honey, pear, tan...  \n",
              "3  Delicate, richly and sweetly tart. Dried hibis...  \n",
              "4  High-toned, floral. Dried apricot, magnolia, a...  "
            ],
            "text/html": [
              "\n",
              "  <div id=\"df-716ae41b-9c36-4057-86bf-cd2467d6a3ca\" class=\"colab-df-container\">\n",
              "    <div>\n",
              "<style scoped>\n",
              "    .dataframe tbody tr th:only-of-type {\n",
              "        vertical-align: middle;\n",
              "    }\n",
              "\n",
              "    .dataframe tbody tr th {\n",
              "        vertical-align: top;\n",
              "    }\n",
              "\n",
              "    .dataframe thead th {\n",
              "        text-align: right;\n",
              "    }\n",
              "</style>\n",
              "<table border=\"1\" class=\"dataframe\">\n",
              "  <thead>\n",
              "    <tr style=\"text-align: right;\">\n",
              "      <th></th>\n",
              "      <th>name</th>\n",
              "      <th>roaster</th>\n",
              "      <th>roast</th>\n",
              "      <th>loc_country</th>\n",
              "      <th>origin</th>\n",
              "      <th>100g_USD</th>\n",
              "      <th>rating</th>\n",
              "      <th>review_date</th>\n",
              "      <th>review</th>\n",
              "    </tr>\n",
              "  </thead>\n",
              "  <tbody>\n",
              "    <tr>\n",
              "      <th>0</th>\n",
              "      <td>Ethiopia Shakiso Mormora</td>\n",
              "      <td>Revel Coffee</td>\n",
              "      <td>Medium-Light</td>\n",
              "      <td>United States</td>\n",
              "      <td>Ethiopia</td>\n",
              "      <td>4.70</td>\n",
              "      <td>92</td>\n",
              "      <td>November 2017</td>\n",
              "      <td>Crisply sweet, cocoa-toned. Lemon blossom, roa...</td>\n",
              "    </tr>\n",
              "    <tr>\n",
              "      <th>1</th>\n",
              "      <td>Ethiopia Suke Quto</td>\n",
              "      <td>Roast House</td>\n",
              "      <td>Medium-Light</td>\n",
              "      <td>United States</td>\n",
              "      <td>Ethiopia</td>\n",
              "      <td>4.19</td>\n",
              "      <td>92</td>\n",
              "      <td>November 2017</td>\n",
              "      <td>Delicate, sweetly spice-toned. Pink peppercorn...</td>\n",
              "    </tr>\n",
              "    <tr>\n",
              "      <th>2</th>\n",
              "      <td>Ethiopia Gedeb Halo Beriti</td>\n",
              "      <td>Big Creek Coffee Roasters</td>\n",
              "      <td>Medium</td>\n",
              "      <td>United States</td>\n",
              "      <td>Ethiopia</td>\n",
              "      <td>4.85</td>\n",
              "      <td>94</td>\n",
              "      <td>November 2017</td>\n",
              "      <td>Deeply sweet, subtly pungent. Honey, pear, tan...</td>\n",
              "    </tr>\n",
              "    <tr>\n",
              "      <th>3</th>\n",
              "      <td>Ethiopia Kayon Mountain</td>\n",
              "      <td>Red Rooster Coffee Roaster</td>\n",
              "      <td>Light</td>\n",
              "      <td>United States</td>\n",
              "      <td>Ethiopia</td>\n",
              "      <td>5.14</td>\n",
              "      <td>93</td>\n",
              "      <td>November 2017</td>\n",
              "      <td>Delicate, richly and sweetly tart. Dried hibis...</td>\n",
              "    </tr>\n",
              "    <tr>\n",
              "      <th>4</th>\n",
              "      <td>Ethiopia Gelgelu Natural Organic</td>\n",
              "      <td>Willoughby's Coffee &amp; Tea</td>\n",
              "      <td>Medium-Light</td>\n",
              "      <td>United States</td>\n",
              "      <td>Ethiopia</td>\n",
              "      <td>3.97</td>\n",
              "      <td>93</td>\n",
              "      <td>November 2017</td>\n",
              "      <td>High-toned, floral. Dried apricot, magnolia, a...</td>\n",
              "    </tr>\n",
              "  </tbody>\n",
              "</table>\n",
              "</div>\n",
              "    <div class=\"colab-df-buttons\">\n",
              "\n",
              "  <div class=\"colab-df-container\">\n",
              "    <button class=\"colab-df-convert\" onclick=\"convertToInteractive('df-716ae41b-9c36-4057-86bf-cd2467d6a3ca')\"\n",
              "            title=\"Convert this dataframe to an interactive table.\"\n",
              "            style=\"display:none;\">\n",
              "\n",
              "  <svg xmlns=\"http://www.w3.org/2000/svg\" height=\"24px\" viewBox=\"0 -960 960 960\">\n",
              "    <path d=\"M120-120v-720h720v720H120Zm60-500h600v-160H180v160Zm220 220h160v-160H400v160Zm0 220h160v-160H400v160ZM180-400h160v-160H180v160Zm440 0h160v-160H620v160ZM180-180h160v-160H180v160Zm440 0h160v-160H620v160Z\"/>\n",
              "  </svg>\n",
              "    </button>\n",
              "\n",
              "  <style>\n",
              "    .colab-df-container {\n",
              "      display:flex;\n",
              "      gap: 12px;\n",
              "    }\n",
              "\n",
              "    .colab-df-convert {\n",
              "      background-color: #E8F0FE;\n",
              "      border: none;\n",
              "      border-radius: 50%;\n",
              "      cursor: pointer;\n",
              "      display: none;\n",
              "      fill: #1967D2;\n",
              "      height: 32px;\n",
              "      padding: 0 0 0 0;\n",
              "      width: 32px;\n",
              "    }\n",
              "\n",
              "    .colab-df-convert:hover {\n",
              "      background-color: #E2EBFA;\n",
              "      box-shadow: 0px 1px 2px rgba(60, 64, 67, 0.3), 0px 1px 3px 1px rgba(60, 64, 67, 0.15);\n",
              "      fill: #174EA6;\n",
              "    }\n",
              "\n",
              "    .colab-df-buttons div {\n",
              "      margin-bottom: 4px;\n",
              "    }\n",
              "\n",
              "    [theme=dark] .colab-df-convert {\n",
              "      background-color: #3B4455;\n",
              "      fill: #D2E3FC;\n",
              "    }\n",
              "\n",
              "    [theme=dark] .colab-df-convert:hover {\n",
              "      background-color: #434B5C;\n",
              "      box-shadow: 0px 1px 3px 1px rgba(0, 0, 0, 0.15);\n",
              "      filter: drop-shadow(0px 1px 2px rgba(0, 0, 0, 0.3));\n",
              "      fill: #FFFFFF;\n",
              "    }\n",
              "  </style>\n",
              "\n",
              "    <script>\n",
              "      const buttonEl =\n",
              "        document.querySelector('#df-716ae41b-9c36-4057-86bf-cd2467d6a3ca button.colab-df-convert');\n",
              "      buttonEl.style.display =\n",
              "        google.colab.kernel.accessAllowed ? 'block' : 'none';\n",
              "\n",
              "      async function convertToInteractive(key) {\n",
              "        const element = document.querySelector('#df-716ae41b-9c36-4057-86bf-cd2467d6a3ca');\n",
              "        const dataTable =\n",
              "          await google.colab.kernel.invokeFunction('convertToInteractive',\n",
              "                                                    [key], {});\n",
              "        if (!dataTable) return;\n",
              "\n",
              "        const docLinkHtml = 'Like what you see? Visit the ' +\n",
              "          '<a target=\"_blank\" href=https://colab.research.google.com/notebooks/data_table.ipynb>data table notebook</a>'\n",
              "          + ' to learn more about interactive tables.';\n",
              "        element.innerHTML = '';\n",
              "        dataTable['output_type'] = 'display_data';\n",
              "        await google.colab.output.renderOutput(dataTable, element);\n",
              "        const docLink = document.createElement('div');\n",
              "        docLink.innerHTML = docLinkHtml;\n",
              "        element.appendChild(docLink);\n",
              "      }\n",
              "    </script>\n",
              "  </div>\n",
              "\n",
              "\n",
              "<div id=\"df-350bb1cc-c0d4-4a5f-8571-d80ff8358ed8\">\n",
              "  <button class=\"colab-df-quickchart\" onclick=\"quickchart('df-350bb1cc-c0d4-4a5f-8571-d80ff8358ed8')\"\n",
              "            title=\"Suggest charts\"\n",
              "            style=\"display:none;\">\n",
              "\n",
              "<svg xmlns=\"http://www.w3.org/2000/svg\" height=\"24px\"viewBox=\"0 0 24 24\"\n",
              "     width=\"24px\">\n",
              "    <g>\n",
              "        <path d=\"M19 3H5c-1.1 0-2 .9-2 2v14c0 1.1.9 2 2 2h14c1.1 0 2-.9 2-2V5c0-1.1-.9-2-2-2zM9 17H7v-7h2v7zm4 0h-2V7h2v10zm4 0h-2v-4h2v4z\"/>\n",
              "    </g>\n",
              "</svg>\n",
              "  </button>\n",
              "\n",
              "<style>\n",
              "  .colab-df-quickchart {\n",
              "      --bg-color: #E8F0FE;\n",
              "      --fill-color: #1967D2;\n",
              "      --hover-bg-color: #E2EBFA;\n",
              "      --hover-fill-color: #174EA6;\n",
              "      --disabled-fill-color: #AAA;\n",
              "      --disabled-bg-color: #DDD;\n",
              "  }\n",
              "\n",
              "  [theme=dark] .colab-df-quickchart {\n",
              "      --bg-color: #3B4455;\n",
              "      --fill-color: #D2E3FC;\n",
              "      --hover-bg-color: #434B5C;\n",
              "      --hover-fill-color: #FFFFFF;\n",
              "      --disabled-bg-color: #3B4455;\n",
              "      --disabled-fill-color: #666;\n",
              "  }\n",
              "\n",
              "  .colab-df-quickchart {\n",
              "    background-color: var(--bg-color);\n",
              "    border: none;\n",
              "    border-radius: 50%;\n",
              "    cursor: pointer;\n",
              "    display: none;\n",
              "    fill: var(--fill-color);\n",
              "    height: 32px;\n",
              "    padding: 0;\n",
              "    width: 32px;\n",
              "  }\n",
              "\n",
              "  .colab-df-quickchart:hover {\n",
              "    background-color: var(--hover-bg-color);\n",
              "    box-shadow: 0 1px 2px rgba(60, 64, 67, 0.3), 0 1px 3px 1px rgba(60, 64, 67, 0.15);\n",
              "    fill: var(--button-hover-fill-color);\n",
              "  }\n",
              "\n",
              "  .colab-df-quickchart-complete:disabled,\n",
              "  .colab-df-quickchart-complete:disabled:hover {\n",
              "    background-color: var(--disabled-bg-color);\n",
              "    fill: var(--disabled-fill-color);\n",
              "    box-shadow: none;\n",
              "  }\n",
              "\n",
              "  .colab-df-spinner {\n",
              "    border: 2px solid var(--fill-color);\n",
              "    border-color: transparent;\n",
              "    border-bottom-color: var(--fill-color);\n",
              "    animation:\n",
              "      spin 1s steps(1) infinite;\n",
              "  }\n",
              "\n",
              "  @keyframes spin {\n",
              "    0% {\n",
              "      border-color: transparent;\n",
              "      border-bottom-color: var(--fill-color);\n",
              "      border-left-color: var(--fill-color);\n",
              "    }\n",
              "    20% {\n",
              "      border-color: transparent;\n",
              "      border-left-color: var(--fill-color);\n",
              "      border-top-color: var(--fill-color);\n",
              "    }\n",
              "    30% {\n",
              "      border-color: transparent;\n",
              "      border-left-color: var(--fill-color);\n",
              "      border-top-color: var(--fill-color);\n",
              "      border-right-color: var(--fill-color);\n",
              "    }\n",
              "    40% {\n",
              "      border-color: transparent;\n",
              "      border-right-color: var(--fill-color);\n",
              "      border-top-color: var(--fill-color);\n",
              "    }\n",
              "    60% {\n",
              "      border-color: transparent;\n",
              "      border-right-color: var(--fill-color);\n",
              "    }\n",
              "    80% {\n",
              "      border-color: transparent;\n",
              "      border-right-color: var(--fill-color);\n",
              "      border-bottom-color: var(--fill-color);\n",
              "    }\n",
              "    90% {\n",
              "      border-color: transparent;\n",
              "      border-bottom-color: var(--fill-color);\n",
              "    }\n",
              "  }\n",
              "</style>\n",
              "\n",
              "  <script>\n",
              "    async function quickchart(key) {\n",
              "      const quickchartButtonEl =\n",
              "        document.querySelector('#' + key + ' button');\n",
              "      quickchartButtonEl.disabled = true;  // To prevent multiple clicks.\n",
              "      quickchartButtonEl.classList.add('colab-df-spinner');\n",
              "      try {\n",
              "        const charts = await google.colab.kernel.invokeFunction(\n",
              "            'suggestCharts', [key], {});\n",
              "      } catch (error) {\n",
              "        console.error('Error during call to suggestCharts:', error);\n",
              "      }\n",
              "      quickchartButtonEl.classList.remove('colab-df-spinner');\n",
              "      quickchartButtonEl.classList.add('colab-df-quickchart-complete');\n",
              "    }\n",
              "    (() => {\n",
              "      let quickchartButtonEl =\n",
              "        document.querySelector('#df-350bb1cc-c0d4-4a5f-8571-d80ff8358ed8 button');\n",
              "      quickchartButtonEl.style.display =\n",
              "        google.colab.kernel.accessAllowed ? 'block' : 'none';\n",
              "    })();\n",
              "  </script>\n",
              "</div>\n",
              "\n",
              "    </div>\n",
              "  </div>\n"
            ]
          },
          "metadata": {},
          "execution_count": 13
        }
      ]
    },
    {
      "cell_type": "markdown",
      "source": [
        "If dataframe was uploaded via panda, convert the dataset to pyspark"
      ],
      "metadata": {
        "id": "tFplCOCp9c99"
      }
    },
    {
      "cell_type": "code",
      "source": [
        "df_spark = spark.createDataFrame(df)"
      ],
      "metadata": {
        "id": "wJBimHrq9atX"
      },
      "execution_count": 14,
      "outputs": []
    },
    {
      "cell_type": "code",
      "source": [
        "df_spark.show(5)"
      ],
      "metadata": {
        "colab": {
          "base_uri": "https://localhost:8080/"
        },
        "id": "jhSz2q-B930b",
        "outputId": "00c27178-9418-40f6-949e-93f393a90956"
      },
      "execution_count": 15,
      "outputs": [
        {
          "output_type": "stream",
          "name": "stdout",
          "text": [
            "+--------------------+--------------------+------------+-------------+--------+--------+------+-------------+--------------------+\n",
            "|                name|             roaster|       roast|  loc_country|  origin|100g_USD|rating|  review_date|              review|\n",
            "+--------------------+--------------------+------------+-------------+--------+--------+------+-------------+--------------------+\n",
            "|Ethiopia Shakiso ...|        Revel Coffee|Medium-Light|United States|Ethiopia|     4.7|    92|November 2017|Crisply sweet, co...|\n",
            "|  Ethiopia Suke Quto|         Roast House|Medium-Light|United States|Ethiopia|    4.19|    92|November 2017|Delicate, sweetly...|\n",
            "|Ethiopia Gedeb Ha...|Big Creek Coffee ...|      Medium|United States|Ethiopia|    4.85|    94|November 2017|Deeply sweet, sub...|\n",
            "|Ethiopia Kayon Mo...|Red Rooster Coffe...|       Light|United States|Ethiopia|    5.14|    93|November 2017|Delicate, richly ...|\n",
            "|Ethiopia Gelgelu ...|Willoughby's Coff...|Medium-Light|United States|Ethiopia|    3.97|    93|November 2017|High-toned, flora...|\n",
            "+--------------------+--------------------+------------+-------------+--------+--------+------+-------------+--------------------+\n",
            "only showing top 5 rows\n",
            "\n"
          ]
        }
      ]
    },
    {
      "cell_type": "code",
      "source": [
        "df_spark.printSchema()"
      ],
      "metadata": {
        "colab": {
          "base_uri": "https://localhost:8080/"
        },
        "id": "2zq3D5pY-MKW",
        "outputId": "782eaa26-fdb0-4c2f-d9f0-3ee8a012d23a"
      },
      "execution_count": 16,
      "outputs": [
        {
          "output_type": "stream",
          "name": "stdout",
          "text": [
            "root\n",
            " |-- name: string (nullable = true)\n",
            " |-- roaster: string (nullable = true)\n",
            " |-- roast: string (nullable = true)\n",
            " |-- loc_country: string (nullable = true)\n",
            " |-- origin: string (nullable = true)\n",
            " |-- 100g_USD: double (nullable = true)\n",
            " |-- rating: long (nullable = true)\n",
            " |-- review_date: string (nullable = true)\n",
            " |-- review: string (nullable = true)\n",
            "\n"
          ]
        }
      ]
    },
    {
      "cell_type": "markdown",
      "source": [
        "Clean the data. 1. Drop unnecessary columns. 2. Convert data types where necessary.  For the coffee dataset: rating should be integer."
      ],
      "metadata": {
        "id": "ewmlKSv3_nS_"
      }
    },
    {
      "cell_type": "code",
      "source": [
        "df_spark = df_spark.drop(\"loc_country\", \"review_date\")"
      ],
      "metadata": {
        "id": "XG2JU81G_RH8"
      },
      "execution_count": 17,
      "outputs": []
    },
    {
      "cell_type": "code",
      "source": [
        "\n",
        "from pyspark.sql.types import IntegerType\n",
        "from pyspark.sql.functions import col\n",
        "\n",
        "df_spark = df_spark.withColumn(\"rating\", col(\"rating\").cast(IntegerType()))"
      ],
      "metadata": {
        "id": "NLMNf6evAWG7"
      },
      "execution_count": 19,
      "outputs": []
    },
    {
      "cell_type": "markdown",
      "source": [
        "Now create a temp view of the dataset to run SQL codes."
      ],
      "metadata": {
        "id": "Riw4eHAWDoM8"
      }
    },
    {
      "cell_type": "code",
      "source": [
        "df_spark.createOrReplaceTempView(\"coffee\")"
      ],
      "metadata": {
        "id": "XF8yXxF6Dtvp"
      },
      "execution_count": 20,
      "outputs": []
    },
    {
      "cell_type": "code",
      "source": [
        "result = spark.sql(\"SELECT * FROM coffee\")\n",
        "result.show()"
      ],
      "metadata": {
        "colab": {
          "base_uri": "https://localhost:8080/"
        },
        "id": "joFx-gzQELM-",
        "outputId": "9016e04b-149f-4abe-914d-1ece6133fc29"
      },
      "execution_count": 24,
      "outputs": [
        {
          "output_type": "stream",
          "name": "stdout",
          "text": [
            "+--------------------+--------------------+------------+---------+--------+------+--------------------+\n",
            "|                name|             roaster|       roast|   origin|100g_USD|rating|              review|\n",
            "+--------------------+--------------------+------------+---------+--------+------+--------------------+\n",
            "|Ethiopia Shakiso ...|        Revel Coffee|Medium-Light| Ethiopia|     4.7|    92|Crisply sweet, co...|\n",
            "|  Ethiopia Suke Quto|         Roast House|Medium-Light| Ethiopia|    4.19|    92|Delicate, sweetly...|\n",
            "|Ethiopia Gedeb Ha...|Big Creek Coffee ...|      Medium| Ethiopia|    4.85|    94|Deeply sweet, sub...|\n",
            "|Ethiopia Kayon Mo...|Red Rooster Coffe...|       Light| Ethiopia|    5.14|    93|Delicate, richly ...|\n",
            "|Ethiopia Gelgelu ...|Willoughby's Coff...|Medium-Light| Ethiopia|    3.97|    93|High-toned, flora...|\n",
            "|Ethiopia Hambela ...|Black Oak Coffee ...|Medium-Light| Ethiopia|    5.14|    93|Very delicate, sw...|\n",
            "|Organic Ethiopia ...|  Wonderstate Coffee|Medium-Light| Ethiopia|    5.29|    93|High-toned, crisp...|\n",
            "|     Ethiopia Sidama|Reunion Island Co...|      Medium| Ethiopia|    3.76|    94|Balanced, sweet-s...|\n",
            "|Decaf Ethiopia Si...|        Old Soul Co.|      Medium| Ethiopia|    5.73|    90|Surprising and me...|\n",
            "|Ethiopia Yirgache...|              A.R.C.|Medium-Light| Ethiopia|    6.87|    92|Delicate, gently ...|\n",
            "|Ethiopia Yirgache...|              A.R.C.|Medium-Light| Ethiopia|    6.87|    91|Rich, sweet-toned...|\n",
            "|     Ethiopia Awassa|   Paradise Roasters|Medium-Light| Ethiopia|    5.28|    93|Crisply sweet, mu...|\n",
            "|     100% Kona SL-28|Hula Daddy Kona C...|Medium-Light|  Hawai'I|   33.05|    97|Spectacularly swe...|\n",
            "|Kenya Kirinyaga M...|       Kakalove Cafe|Medium-Light|    Kenya|     4.6|    95|Crisply sweet-sav...|\n",
            "|Kenya Nyeri Othay...|     Jackrabbit Java| Medium-Dark|    Kenya|    5.29|    92|Sweetly pungent, ...|\n",
            "|Ethiopia Washed Y...|       Kakalove Cafe|Medium-Light| Ethiopia|    3.89|    95|Elegant, deep, sw...|\n",
            "|     Kenya Mutungati|    Propeller Coffee|Medium-Light|    Kenya|    4.65|    94|Bright, richly sw...|\n",
            "|Guatemala El Reti...|Chocolate Fish Co...|       Light|Guatemala|    5.58|    93|Delicately sweet ...|\n",
            "|      Kamwangi Kenya|Lexington Coffee ...|Medium-Light|    Kenya|    5.86|    93|Deeply and pungen...|\n",
            "|Ethiopia Gelana A...|Big Creek Coffee ...|Medium-Light| Ethiopia|    4.41|    92|Sweet, spice-tone...|\n",
            "+--------------------+--------------------+------------+---------+--------+------+--------------------+\n",
            "only showing top 20 rows\n",
            "\n"
          ]
        }
      ]
    },
    {
      "cell_type": "markdown",
      "source": [
        "Find the top reviews from the coffee table."
      ],
      "metadata": {
        "id": "HJlWScIIGCHr"
      }
    },
    {
      "cell_type": "code",
      "source": [
        "top_roasts = spark.sql(\"SELECT name, SUM(rating) as total_rating FROM coffee GROUP BY 1 ORDER BY 2 DESC\")\n",
        "top_roasts.show()"
      ],
      "metadata": {
        "colab": {
          "base_uri": "https://localhost:8080/"
        },
        "id": "4NOo4BkqGBoY",
        "outputId": "a71458da-bba2-45d4-f198-64428aa4da9d"
      },
      "execution_count": 29,
      "outputs": [
        {
          "output_type": "stream",
          "name": "stdout",
          "text": [
            "+--------------------+------------+\n",
            "|                name|total_rating|\n",
            "+--------------------+------------+\n",
            "|Ethiopia Kayon Mo...|         561|\n",
            "|         Kona Mocca®|         478|\n",
            "|Esmeralda Estate ...|         470|\n",
            "|100% Kona Bourbon...|         380|\n",
            "|Guatemala Bella C...|         372|\n",
            "|Bella Carmona Gua...|         371|\n",
            "|Karen J Kona Red ...|         285|\n",
            "|Ethiopia Banko Go...|         282|\n",
            "|         Kenya Nyeri|         281|\n",
            "|     Gigesa Ethiopia|         281|\n",
            "|Ethiopia Kayon Mo...|         280|\n",
            "|Colombia Pink Bou...|         280|\n",
            "|   Suyusama Colombia|         278|\n",
            "|El Salvador Pacamara|         277|\n",
            "|              5a Sur|         266|\n",
            "|         5a Poniente|         265|\n",
            "|   Mama Cata Mokkita|         192|\n",
            "|Laura’s Reserve SL34|         191|\n",
            "|Panama Hacienda L...|         190|\n",
            "|      Karatina Kenya|         190|\n",
            "+--------------------+------------+\n",
            "only showing top 20 rows\n",
            "\n"
          ]
        }
      ]
    }
  ]
}